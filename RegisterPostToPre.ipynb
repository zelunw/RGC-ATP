{
 "cells": [
  {
   "cell_type": "code",
   "execution_count": 1,
   "id": "3ce9ec90",
   "metadata": {},
   "outputs": [],
   "source": [
    "import time\n",
    "import os\n",
    "import numpy as np\n",
    "import matplotlib.pyplot as plt\n",
    "\n",
    "#feature detection\n",
    "from skimage.feature import SIFT, match_descriptors, plot_matches \n",
    "descriptor_extractor = SIFT() \n",
    "\n",
    "#ransac\n",
    "from skimage.transform import AffineTransform \n",
    "from skimage.measure import ransac\n",
    "from skimage.feature import plot_matches\n",
    "\n",
    "#warping\n",
    "from skimage.transform import warp\n",
    "\n",
    "from skimage import io\n",
    "import re #regex\n"
   ]
  },
  {
   "cell_type": "code",
   "execution_count": 2,
   "id": "a6b1caf2",
   "metadata": {},
   "outputs": [],
   "source": [
    "import os.path as path\n",
    "fixed_file = path.abspath(path.join(os.getcwd() ,\"../..\")) + '/pre/registered0/reg_concat_chAvg_sliceAvg.tif'\n",
    "fixed = io.imread(fixed_file)\n",
    "\n",
    "moving = io.imread('reg_concat_chAvg_sliceAvg.tif') \n",
    "\n",
    "moving_stack_ch0 = io.imread('reg_concat_ch0.tif')\n",
    "moving_stack_ch1 = io.imread('reg_concat_ch1.tif')\n"
   ]
  },
  {
   "cell_type": "code",
   "execution_count": 3,
   "id": "a03f76e3",
   "metadata": {},
   "outputs": [],
   "source": [
    "#SIFT\n",
    "descriptor_extractor.detect_and_extract(fixed) \n",
    "keypoints1 = descriptor_extractor.keypoints \n",
    "descriptors1 = descriptor_extractor.descriptors \n",
    "\n",
    "output_shape = fixed.shape \n",
    "\n",
    "descriptor_extractor.detect_and_extract(moving) \n",
    "keypoints2 = descriptor_extractor.keypoints\n",
    "descriptors2 = descriptor_extractor.descriptors\n",
    "\n",
    "matches12 = match_descriptors(descriptors1, descriptors2, cross_check=True, max_ratio = 0.7)\n"
   ]
  },
  {
   "cell_type": "code",
   "execution_count": 4,
   "id": "7a70aeb5",
   "metadata": {},
   "outputs": [],
   "source": [
    "#ransac\n",
    "src = keypoints2[matches12[:, 1]][:, ::-1]\n",
    "dst = keypoints1[matches12[:, 0]][:, ::-1]\n",
    "\n",
    "try:\n",
    "    model_robust, inliers = ransac((src, dst), AffineTransform,\n",
    "                                   min_samples=10, residual_threshold=5, max_trials=3000)\n",
    "except ValueError:\n",
    "    model_robust, inliers = ransac((src, dst), AffineTransform,\n",
    "                                   min_samples=5, residual_threshold=5, max_trials=3000)\n",
    "    err_str = ('ValueError for slice, necessary to lower `min_samples` to 5, may negatively impact warping')\n",
    "    print(err_str)\n"
   ]
  },
  {
   "cell_type": "code",
   "execution_count": 5,
   "id": "ba5612fe",
   "metadata": {},
   "outputs": [],
   "source": [
    "#warp\n",
    "try:\n",
    "    warped_ = warp(moving, model_robust.inverse, preserve_range=True,\n",
    "               output_shape=output_shape, cval=-1)\n",
    "    warped_ = np.ma.array(warped_, mask=warped_==-1)\n",
    "except AttributeError:\n",
    "    warped_ = moving #no warping, use initial slice\n",
    "    err_str = ('AttributeError for slice, slice not warped')\n",
    "    print(err_str)\n"
   ]
  },
  {
   "cell_type": "code",
   "execution_count": 6,
   "id": "cc2c62cb",
   "metadata": {},
   "outputs": [],
   "source": [
    "#write outputs\n",
    "\n",
    "io.imsave('reg_concat_regToPre_sliceAvg_chAvg.tif', warped_.data)\n",
    "\n",
    "ch0_reg_stack = [] #moving_stack_ch1\n",
    "ch1_reg_stack = []\n",
    "\n",
    "for i in range(np.shape(moving_stack_ch0)[0]):\n",
    "    warped_ = warp(moving_stack_ch0[i], model_robust.inverse, preserve_range=True,\n",
    "               output_shape=output_shape, cval=-1)\n",
    "    warped_ = np.ma.array(warped_, mask=warped_==-1) \n",
    "    ch0_reg_stack.append(warped_.data) \n",
    "\n",
    "for i in range(np.shape(moving_stack_ch1)[0]):\n",
    "    warped_ = warp(moving_stack_ch1[i], model_robust.inverse, preserve_range=True,\n",
    "               output_shape=output_shape, cval=-1)\n",
    "    warped_ = np.ma.array(warped_, mask=warped_==-1)\n",
    "    ch1_reg_stack.append(warped_.data)\n",
    "\n",
    "ch0_reg_stack = np.array(ch0_reg_stack, dtype=np.float32)\n",
    "ch1_reg_stack = np.array(ch1_reg_stack, dtype=np.float32)\n",
    "\n",
    "io.imsave('reg_concat_regToPre_ch0.tif', ch0_reg_stack)\n",
    "io.imsave('reg_concat_regToPre_ch1.tif', ch1_reg_stack)"
   ]
  }
 ],
 "metadata": {
  "kernelspec": {
   "display_name": "base",
   "language": "python",
   "name": "python3"
  },
  "language_info": {
   "codemirror_mode": {
    "name": "ipython",
    "version": 3
   },
   "file_extension": ".py",
   "mimetype": "text/x-python",
   "name": "python",
   "nbconvert_exporter": "python",
   "pygments_lexer": "ipython3",
   "version": "3.9.18"
  }
 },
 "nbformat": 4,
 "nbformat_minor": 5
}
